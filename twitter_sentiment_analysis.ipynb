{
 "cells": [
  {
   "cell_type": "code",
   "execution_count": 46,
   "metadata": {},
   "outputs": [],
   "source": [
    "#get input as sentence\n",
    "#tokenize it in different words\n",
    "#count number of times each word shows up after tokenizing...\n",
    "#this is called bag of words model\n",
    "#look up the sentiment value for each word from a sentiment lexicon that \n",
    "#has it all pre-recorded and classify the total sentiment\n",
    "#value of our tweet\n",
    "\n"
   ]
  },
  {
   "cell_type": "code",
   "execution_count": 47,
   "metadata": {},
   "outputs": [],
   "source": [
    "#process: \n",
    "# 1. Register for twitter API\n",
    "# 2. Install dependecies\n",
    "# 3. Write script\n"
   ]
  },
  {
   "cell_type": "code",
   "execution_count": 48,
   "metadata": {},
   "outputs": [],
   "source": [
    "#twitter api created on apps.twitter.com\n",
    "#Dependencies\n",
    "# 1. pip install tweepy ==> to access twitter API\n",
    "# 2. pip install textblob ==> helps us to perfrom the sentiment analysis\n"
   ]
  },
  {
   "cell_type": "code",
   "execution_count": 49,
   "metadata": {},
   "outputs": [
    {
     "data": {
      "text/plain": [
       "'Some sample demo for terminal\\n# python \\n>>> from textblob import TextBlob\\n>>> wiki = TextBlob(\"Anirudh is angry that he never gets good matches on Tinder\")\\n>>> wiki.tags ===> gives parts of speech\\n>>> wiki.words ===> gives words i.e tokenize\\n>>> wiki.sentiment.polarity ==> gives -1 to 1 sentiment value \\n'"
      ]
     },
     "execution_count": 49,
     "metadata": {},
     "output_type": "execute_result"
    }
   ],
   "source": [
    "\"\"\"Some sample demo for terminal\n",
    "# python \n",
    ">>> from textblob import TextBlob\n",
    ">>> wiki = TextBlob(\"Anirudh is angry that he never gets good matches on Tinder\")\n",
    ">>> wiki.tags ===> gives parts of speech\n",
    ">>> wiki.words ===> gives words i.e tokenize\n",
    ">>> wiki.sentiment.polarity ==> gives -1 to 1 sentiment value \n",
    "\"\"\""
   ]
  },
  {
   "cell_type": "code",
   "execution_count": 50,
   "metadata": {},
   "outputs": [],
   "source": [
    "import tweepy\n",
    "from textblob import TextBlob"
   ]
  },
  {
   "cell_type": "code",
   "execution_count": 51,
   "metadata": {},
   "outputs": [],
   "source": [
    "#from app.twitter.com copy\n",
    "consumer_key = 'EZEK4z6wMELIWCNTkYPQo84CT'\n",
    "consumer_secret = 'AtlODXWRPy0RBhnyLArFmHHO1TrRJ0Zu05QO9WpQ3ZYT4iFbOC'\n",
    "access_token = '2601976454-5sVAaCWB6ImPVmqPbDBPBomT8SlbuPQSKlEYE6m'\n",
    "access_token_secret = 'Z4hILO9LQWGjWmBIuaxAR7GlEudsviG3s0d60TuIz3TVj' "
   ]
  },
  {
   "cell_type": "code",
   "execution_count": 52,
   "metadata": {},
   "outputs": [],
   "source": [
    "#now authenticate with twitter i.e login \n",
    "#use OAuthHandler method of tweepy\n",
    "#method takes two args\n",
    "auth = tweepy.OAuthHandler(consumer_key, consumer_secret)\n",
    "\n",
    "#call set_access_token method on auth variable\n",
    "#takes two args\n",
    "\n",
    "auth.set_access_token(access_token, access_token_secret)\n"
   ]
  },
  {
   "cell_type": "code",
   "execution_count": 53,
   "metadata": {},
   "outputs": [],
   "source": [
    "#create the main variable that will do everything\n",
    "api = tweepy.API(auth)\n",
    "\n",
    "#using this api, we can perform many different methods like\n",
    "#create tweets\n",
    "#delete tweets\n",
    "#find twitter users etc.."
   ]
  },
  {
   "cell_type": "code",
   "execution_count": 74,
   "metadata": {},
   "outputs": [],
   "source": [
    "#our job ==> search for tweets\n",
    "public_tweets = api.search('NetApp') #stores list of tweets\n",
    "\n",
    "#this api.search takes one arg i.e a string... Returns a bunch of tweets with the word trump\n",
    "\n",
    "#for tweet in public_tweets:\n",
    "    #print(tweet.text)\n",
    "    #analysis = TextBlob(tweet.text)\n",
    "    #print(analysis.sentiment)\n",
    "\n",
    "#polarity measures how positive or negative some text is\n",
    "#subjectivity measures how much of an opinion it is versus how factual"
   ]
  },
  {
   "cell_type": "code",
   "execution_count": null,
   "metadata": {},
   "outputs": [],
   "source": []
  },
  {
   "cell_type": "code",
   "execution_count": 75,
   "metadata": {},
   "outputs": [],
   "source": [
    "import pandas as pd\n",
    "def extract_tweet_attribute(tweet_object):\n",
    "    #create empty list\n",
    "    tweet_list = []\n",
    "    #loop through tweet objects\n",
    "    for tweet in tweet_object:\n",
    "        tweet_id = tweet.id # unique integer identifier for tweet\n",
    "        text = tweet.text \n",
    "        tweet_list.append({'tweet_id': tweet_id,\n",
    "                          'text': text})\n",
    "    \n",
    "    #create dataframe\n",
    "    df = pd.DataFrame(tweet_list, columns = ['tweet_id', 'text'])\n",
    "    return df"
   ]
  },
  {
   "cell_type": "code",
   "execution_count": 76,
   "metadata": {},
   "outputs": [],
   "source": [
    "df = extract_tweet_attribute(public_tweets)"
   ]
  },
  {
   "cell_type": "code",
   "execution_count": 77,
   "metadata": {},
   "outputs": [
    {
     "data": {
      "text/html": [
       "<div>\n",
       "<style scoped>\n",
       "    .dataframe tbody tr th:only-of-type {\n",
       "        vertical-align: middle;\n",
       "    }\n",
       "\n",
       "    .dataframe tbody tr th {\n",
       "        vertical-align: top;\n",
       "    }\n",
       "\n",
       "    .dataframe thead th {\n",
       "        text-align: right;\n",
       "    }\n",
       "</style>\n",
       "<table border=\"1\" class=\"dataframe\">\n",
       "  <thead>\n",
       "    <tr style=\"text-align: right;\">\n",
       "      <th></th>\n",
       "      <th>tweet_id</th>\n",
       "      <th>text</th>\n",
       "    </tr>\n",
       "  </thead>\n",
       "  <tbody>\n",
       "    <tr>\n",
       "      <th>0</th>\n",
       "      <td>1138763910260019202</td>\n",
       "      <td>@DreamADreamInd @suchethab @SkollFoundation @S...</td>\n",
       "    </tr>\n",
       "    <tr>\n",
       "      <th>1</th>\n",
       "      <td>1138763438640046081</td>\n",
       "      <td>@jess100GigE @NetApp @BBB_AI_Now BOB!</td>\n",
       "    </tr>\n",
       "    <tr>\n",
       "      <th>2</th>\n",
       "      <td>1138763010410000385</td>\n",
       "      <td>NetApp-NVIDIA strengthen the #AI journey at th...</td>\n",
       "    </tr>\n",
       "    <tr>\n",
       "      <th>3</th>\n",
       "      <td>1138762948174680065</td>\n",
       "      <td>RT @HosebDM: @NetApp is at the London #AISummi...</td>\n",
       "    </tr>\n",
       "    <tr>\n",
       "      <th>4</th>\n",
       "      <td>1138762879962943488</td>\n",
       "      <td>Discover how AI, machine learning, and cloud d...</td>\n",
       "    </tr>\n",
       "    <tr>\n",
       "      <th>5</th>\n",
       "      <td>1138762037494996992</td>\n",
       "      <td>RT @force3: Cloud Technology Day is two weeks ...</td>\n",
       "    </tr>\n",
       "    <tr>\n",
       "      <th>6</th>\n",
       "      <td>1138761885082198016</td>\n",
       "      <td>Fujitsu si aggiudica il NetApp Emea Partner Ex...</td>\n",
       "    </tr>\n",
       "    <tr>\n",
       "      <th>7</th>\n",
       "      <td>1138761885065633792</td>\n",
       "      <td>RT @NetApp: Are you ready for #TheFutureOf dat...</td>\n",
       "    </tr>\n",
       "    <tr>\n",
       "      <th>8</th>\n",
       "      <td>1138761651530788864</td>\n",
       "      <td>Closing data centres is 1 cost saving option. ...</td>\n",
       "    </tr>\n",
       "    <tr>\n",
       "      <th>9</th>\n",
       "      <td>1138760245629657089</td>\n",
       "      <td>RT @atbwebb: I'll be moderating a panel with @...</td>\n",
       "    </tr>\n",
       "    <tr>\n",
       "      <th>10</th>\n",
       "      <td>1138759581855866880</td>\n",
       "      <td>RT @atbwebb: I'll be moderating a panel with @...</td>\n",
       "    </tr>\n",
       "    <tr>\n",
       "      <th>11</th>\n",
       "      <td>1138758619200143360</td>\n",
       "      <td>@NetAppFrance @NetApp La question est : avez v...</td>\n",
       "    </tr>\n",
       "    <tr>\n",
       "      <th>12</th>\n",
       "      <td>1138758372323418113</td>\n",
       "      <td>RT @AnneECaillot: Excellente Keynote de Franck...</td>\n",
       "    </tr>\n",
       "    <tr>\n",
       "      <th>13</th>\n",
       "      <td>1138758363494227968</td>\n",
       "      <td>5 Azure Backup and Recovery Best Practices @Ne...</td>\n",
       "    </tr>\n",
       "    <tr>\n",
       "      <th>14</th>\n",
       "      <td>1138758240970391552</td>\n",
       "      <td>RT @legrand943: @ArrowECS_Fr on stage au Partn...</td>\n",
       "    </tr>\n",
       "  </tbody>\n",
       "</table>\n",
       "</div>"
      ],
      "text/plain": [
       "               tweet_id                                               text\n",
       "0   1138763910260019202  @DreamADreamInd @suchethab @SkollFoundation @S...\n",
       "1   1138763438640046081              @jess100GigE @NetApp @BBB_AI_Now BOB!\n",
       "2   1138763010410000385  NetApp-NVIDIA strengthen the #AI journey at th...\n",
       "3   1138762948174680065  RT @HosebDM: @NetApp is at the London #AISummi...\n",
       "4   1138762879962943488  Discover how AI, machine learning, and cloud d...\n",
       "5   1138762037494996992  RT @force3: Cloud Technology Day is two weeks ...\n",
       "6   1138761885082198016  Fujitsu si aggiudica il NetApp Emea Partner Ex...\n",
       "7   1138761885065633792  RT @NetApp: Are you ready for #TheFutureOf dat...\n",
       "8   1138761651530788864  Closing data centres is 1 cost saving option. ...\n",
       "9   1138760245629657089  RT @atbwebb: I'll be moderating a panel with @...\n",
       "10  1138759581855866880  RT @atbwebb: I'll be moderating a panel with @...\n",
       "11  1138758619200143360  @NetAppFrance @NetApp La question est : avez v...\n",
       "12  1138758372323418113  RT @AnneECaillot: Excellente Keynote de Franck...\n",
       "13  1138758363494227968  5 Azure Backup and Recovery Best Practices @Ne...\n",
       "14  1138758240970391552  RT @legrand943: @ArrowECS_Fr on stage au Partn..."
      ]
     },
     "execution_count": 77,
     "metadata": {},
     "output_type": "execute_result"
    }
   ],
   "source": [
    "df"
   ]
  },
  {
   "cell_type": "code",
   "execution_count": 86,
   "metadata": {},
   "outputs": [
    {
     "name": "stdout",
     "output_type": "stream",
     "text": [
      "@DreamADreamInd @suchethab @SkollFoundation @SkollCentre @OmidyarNetwork @DellFdn @SSukhmani @EchidnaGiving @NetApp… https://t.co/OiIBeojU2M\n",
      "[0.0]\n",
      "@jess100GigE @NetApp @BBB_AI_Now BOB!\n",
      "[0.0, 0.0]\n",
      "NetApp-NVIDIA strengthen the #AI journey at the new AI Centre of Excellence in Bengaluru. Know more:… https://t.co/05kDayFsO9\n",
      "[0.0, 0.0, 0.13636363636363635]\n",
      "RT @HosebDM: @NetApp is at the London #AISummit with our great partners @allegroAI @nvidia  and @robovision - stop by to see the #OntapAI #…\n",
      "[0.0, 0.0, 0.13636363636363635, 0.8]\n",
      "Discover how AI, machine learning, and cloud drive innovation. Ducati uses data to enhance the customer and driver… https://t.co/Jz4Mm3fHD5\n",
      "[0.0, 0.0, 0.13636363636363635, 0.8, 0.0]\n",
      "RT @force3: Cloud Technology Day is two weeks away! Register for this #free training, where you’ll learn about a faster and more secure jou…\n",
      "[0.0, 0.0, 0.13636363636363635, 0.8, 0.0, 0.43333333333333335]\n",
      "Fujitsu si aggiudica il NetApp Emea Partner Excellence Award come “International Partner of the Year”… https://t.co/Wo2DDQuInC\n",
      "[0.0, 0.0, 0.13636363636363635, 0.8, 0.0, 0.43333333333333335, 0.0]\n",
      "RT @NetApp: Are you ready for #TheFutureOf data? Tune into today's live stream via @BloombergLive to learn why data is at the center of inn…\n",
      "[0.0, 0.0, 0.13636363636363635, 0.8, 0.0, 0.43333333333333335, 0.0, 0.07878787878787878]\n",
      "Closing data centres is 1 cost saving option. DR data centres are a good 1st step. #NetApp have helped many custome… https://t.co/zIDaqvJkH6\n",
      "[0.0, 0.0, 0.13636363636363635, 0.8, 0.0, 0.43333333333333335, 0.0, 0.07878787878787878, 0.6]\n",
      "RT @atbwebb: I'll be moderating a panel with @Ripple's @delatinne, @HotelPlannerCEO, @NetApp's Anthony Lye and @Paul_A_Robson on cloud comp…\n",
      "[0.0, 0.0, 0.13636363636363635, 0.8, 0.0, 0.43333333333333335, 0.0, 0.07878787878787878, 0.6, 0.0]\n",
      "RT @atbwebb: I'll be moderating a panel with @Ripple's @delatinne, @HotelPlannerCEO, @NetApp's Anthony Lye and @Paul_A_Robson on cloud comp…\n",
      "[0.0, 0.0, 0.13636363636363635, 0.8, 0.0, 0.43333333333333335, 0.0, 0.07878787878787878, 0.6, 0.0, 0.0]\n",
      "@NetAppFrance @NetApp La question est : avez vous sorti les maillots de bain?\n",
      "[0.0, 0.0, 0.13636363636363635, 0.8, 0.0, 0.43333333333333335, 0.0, 0.07878787878787878, 0.6, 0.0, 0.0, 0.0]\n",
      "RT @AnneECaillot: Excellente Keynote de FranckRisbec et @AGoudard22 aux Partners Academy @NetAppFrance ! Une vision claire du des challenge…\n",
      "[0.0, 0.0, 0.13636363636363635, 0.8, 0.0, 0.43333333333333335, 0.0, 0.07878787878787878, 0.6, 0.0, 0.0, 0.0, 0.0]\n",
      "5 Azure Backup and Recovery Best Practices @NetAppCloud #DataDriven https://t.co/O6e4TwzmX8\n",
      "[0.0, 0.0, 0.13636363636363635, 0.8, 0.0, 0.43333333333333335, 0.0, 0.07878787878787878, 0.6, 0.0, 0.0, 0.0, 0.0, 1.0]\n",
      "RT @legrand943: @ArrowECS_Fr on stage au Partner NetApp meeting de Paris @NetAppFrance avec notre avant vente Frederic Chapeau NetApp+Cleon…\n",
      "[0.0, 0.0, 0.13636363636363635, 0.8, 0.0, 0.43333333333333335, 0.0, 0.07878787878787878, 0.6, 0.0, 0.0, 0.0, 0.0, 1.0, 0.0]\n"
     ]
    },
    {
     "ename": "TypeError",
     "evalue": "'method' object does not support item assignment",
     "output_type": "error",
     "traceback": [
      "\u001b[1;31m---------------------------------------------------------------------------\u001b[0m",
      "\u001b[1;31mTypeError\u001b[0m                                 Traceback (most recent call last)",
      "\u001b[1;32m<ipython-input-86-424eba407ca9>\u001b[0m in \u001b[0;36m<module>\u001b[1;34m\u001b[0m\n\u001b[0;32m      7\u001b[0m     \u001b[0mprint\u001b[0m\u001b[1;33m(\u001b[0m\u001b[0msentiment_list\u001b[0m\u001b[1;33m)\u001b[0m\u001b[1;33m\u001b[0m\u001b[1;33m\u001b[0m\u001b[0m\n\u001b[0;32m      8\u001b[0m \u001b[1;33m\u001b[0m\u001b[0m\n\u001b[1;32m----> 9\u001b[1;33m \u001b[0mdf\u001b[0m\u001b[1;33m.\u001b[0m\u001b[0mappend\u001b[0m\u001b[1;33m[\u001b[0m\u001b[1;34m'new col'\u001b[0m\u001b[1;33m]\u001b[0m \u001b[1;33m=\u001b[0m \u001b[0msentiment_list\u001b[0m\u001b[1;33m\u001b[0m\u001b[1;33m\u001b[0m\u001b[0m\n\u001b[0m",
      "\u001b[1;31mTypeError\u001b[0m: 'method' object does not support item assignment"
     ]
    }
   ],
   "source": [
    "sentiment_list = []\n",
    "for i, row in df.iterrows():\n",
    "    text = row['text']\n",
    "    print(text)\n",
    "    analysis = TextBlob(text)\n",
    "    sentiment_list.append(analysis.sentiment.polarity)\n",
    "    print(sentiment_list)\n",
    "\n",
    "df.append['new col'] = sentiment_list\n"
   ]
  },
  {
   "cell_type": "code",
   "execution_count": 83,
   "metadata": {},
   "outputs": [
    {
     "ename": "NameError",
     "evalue": "name 'df1' is not defined",
     "output_type": "error",
     "traceback": [
      "\u001b[1;31m---------------------------------------------------------------------------\u001b[0m",
      "\u001b[1;31mNameError\u001b[0m                                 Traceback (most recent call last)",
      "\u001b[1;32m<ipython-input-83-6a861a8b3f1a>\u001b[0m in \u001b[0;36m<module>\u001b[1;34m\u001b[0m\n\u001b[1;32m----> 1\u001b[1;33m \u001b[0mdf1\u001b[0m\u001b[1;33m\u001b[0m\u001b[1;33m\u001b[0m\u001b[0m\n\u001b[0m",
      "\u001b[1;31mNameError\u001b[0m: name 'df1' is not defined"
     ]
    }
   ],
   "source": [
    "df1\n"
   ]
  },
  {
   "cell_type": "code",
   "execution_count": null,
   "metadata": {},
   "outputs": [],
   "source": []
  }
 ],
 "metadata": {
  "kernelspec": {
   "display_name": "Python 3",
   "language": "python",
   "name": "python3"
  },
  "language_info": {
   "codemirror_mode": {
    "name": "ipython",
    "version": 3
   },
   "file_extension": ".py",
   "mimetype": "text/x-python",
   "name": "python",
   "nbconvert_exporter": "python",
   "pygments_lexer": "ipython3",
   "version": "3.7.3"
  }
 },
 "nbformat": 4,
 "nbformat_minor": 2
}
