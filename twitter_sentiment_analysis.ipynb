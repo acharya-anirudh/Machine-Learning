{
 "cells": [
  {
   "cell_type": "code",
   "execution_count": 1,
   "metadata": {},
   "outputs": [],
   "source": [
    "#get input as sentence\n",
    "#tokenize it in different words\n",
    "#count number of times each word shows up after tokenizing...\n",
    "#this is called bag of words model\n",
    "#look up the sentiment value for each word from a sentiment lexicon that \n",
    "#has it all pre-recorded and classify the total sentiment\n",
    "#value of our tweet\n",
    "\n"
   ]
  },
  {
   "cell_type": "code",
   "execution_count": 7,
   "metadata": {},
   "outputs": [],
   "source": [
    "#process: \n",
    "# 1. Register for twitter API\n",
    "# 2. Install dependecies\n",
    "# 3. Write script\n"
   ]
  },
  {
   "cell_type": "code",
   "execution_count": 3,
   "metadata": {},
   "outputs": [],
   "source": [
    "#twitter api created on apps.twitter.com\n",
    "#Dependencies\n",
    "# 1. pip install tweepy ==> to access twitter API\n",
    "# 2. pip install textblob ==> helps us to perfrom the sentiment analysis\n"
   ]
  },
  {
   "cell_type": "code",
   "execution_count": 4,
   "metadata": {},
   "outputs": [
    {
     "data": {
      "text/plain": [
       "'\\nSome sample demo for terminal\\n# python \\n>>> from textblob import TextBlob\\n>>> wiki = TextBlob(\"Anirudh is angry that he never gets good matches on Tinder\")\\n>>> wiki.tags ===> gives parts of speech\\n>>> wiki.words ===> gives words i.e tokenize\\n>>> wiki.sentiment.polarity ==> gives -1 to 1 sentiment value \\n'"
      ]
     },
     "execution_count": 4,
     "metadata": {},
     "output_type": "execute_result"
    }
   ],
   "source": [
    "\"\"\"Some sample demo for terminal\n",
    "# python \n",
    ">>> from textblob import TextBlob\n",
    ">>> wiki = TextBlob(\"Anirudh is angry that he never gets good matches on Tinder\")\n",
    ">>> wiki.tags ===> gives parts of speech\n",
    ">>> wiki.words ===> gives words i.e tokenize\n",
    ">>> wiki.sentiment.polarity ==> gives -1 to 1 sentiment value \n",
    "\"\"\""
   ]
  },
  {
   "cell_type": "code",
   "execution_count": 6,
   "metadata": {},
   "outputs": [],
   "source": [
    "import tweepy\n",
    "from textblob import TextBlob"
   ]
  },
  {
   "cell_type": "code",
   "execution_count": 8,
   "metadata": {},
   "outputs": [],
   "source": [
    "#from app.twitter.com copy\n",
    "consumer_key = 'EZEK4z6wMELIWCNTkYPQo84CT'\n",
    "consumer_secret = 'AtlODXWRPy0RBhnyLArFmHHO1TrRJ0Zu05QO9WpQ3ZYT4iFbOC'\n",
    "access_token = '2601976454-5sVAaCWB6ImPVmqPbDBPBomT8SlbuPQSKlEYE6m'\n",
    "access_token_secret = 'Z4hILO9LQWGjWmBIuaxAR7GlEudsviG3s0d60TuIz3TVj' "
   ]
  },
  {
   "cell_type": "code",
   "execution_count": 9,
   "metadata": {},
   "outputs": [],
   "source": [
    "#now authenticate with twitter i.e login \n",
    "#use OAuthHandler method of tweepy\n",
    "#method takes two args\n",
    "auth = tweepy.OAuthHandler(consumer_key, consumer_secret)\n",
    "\n",
    "#call set_access_token method on auth variable\n",
    "#takes two args\n",
    "\n",
    "auth.set_access_token(access_token, access_token_secret)\n"
   ]
  },
  {
   "cell_type": "code",
   "execution_count": 10,
   "metadata": {},
   "outputs": [],
   "source": [
    "#create the main variable that will do everything\n",
    "api = tweepy.API(auth)\n",
    "\n",
    "#using this api, we can perform many different methods like\n",
    "#create tweets\n",
    "#delete tweets\n",
    "#find twitter users etc.."
   ]
  },
  {
   "cell_type": "code",
   "execution_count": 13,
   "metadata": {},
   "outputs": [
    {
     "name": "stdout",
     "output_type": "stream",
     "text": [
      "BREAKING NEWS:  In an effort to tie President Trump to the failed Bay of Pigs invasion, House Democrats have called… https://t.co/UZ3BYiKoU3\n",
      "Sentiment(polarity=-0.5, subjectivity=0.3)\n",
      "RT @tribelaw: Making it official MATTERS. The power of @RepJerryNadler to compel fact witnesses like McGahn to testify about Trump’s wrongd…\n",
      "Sentiment(polarity=0.0, subjectivity=0.0)\n",
      "RT @bluevirginia: VA Primary Day #Tuesday News: “Arctic death spiral speeds up sixfold”; “Trump’s possibly fake deal with Mexico”; “Gov. Ra…\n",
      "Sentiment(polarity=-0.04999999999999999, subjectivity=0.75)\n",
      "@realDonaldTrump Donald Trump does never know how it is to be poor all his life he’s been rich his family his daugh… https://t.co/xeC7HGN6qZ\n",
      "Sentiment(polarity=-0.012500000000000011, subjectivity=0.675)\n",
      "When it comes to Iran, Israel, and Latin America, Democratic leaders are closer in mindset to the Trump administrat… https://t.co/9MZgFDxSM4\n",
      "Sentiment(polarity=0.0, subjectivity=0.0)\n",
      "RT @BarbMcQuade: Honored to testify before the House Judiciary Committee today to help explain obstruction of justice and how interference…\n",
      "Sentiment(polarity=0.0, subjectivity=0.0)\n",
      "RT @PalmerReport: This John Dean hearing is going so poorly for Donald Trump, the House Republicans have been reduced to yelling histrionic…\n",
      "Sentiment(polarity=-0.4, subjectivity=0.6)\n",
      "RT @MarkieJP: How do you refer to Trump? 😮#Trump\n",
      "Sentiment(polarity=0.0, subjectivity=0.0)\n"
     ]
    }
   ],
   "source": [
    "#our job ==> search for tweets\n",
    "public_tweets = api.search('Trump') #stores list of tweets\n",
    "\n",
    "#this api.search takes one arg i.e a string... Returns a bunch of tweets with the word trump\n",
    "\n",
    "for tweet in public_tweets:\n",
    "    print(tweet.text)\n",
    "    analysis = TextBlob(tweet.text)\n",
    "    print(analysis.sentiment)\n",
    "\n",
    "#polarity measures how positive or negative some text is\n",
    "#subjectivity measures how much of an opinion it is versus how factual"
   ]
  },
  {
   "cell_type": "code",
   "execution_count": null,
   "metadata": {},
   "outputs": [],
   "source": []
  }
 ],
 "metadata": {
  "kernelspec": {
   "display_name": "Python 3",
   "language": "python",
   "name": "python3"
  },
  "language_info": {
   "codemirror_mode": {
    "name": "ipython",
    "version": 3
   },
   "file_extension": ".py",
   "mimetype": "text/x-python",
   "name": "python",
   "nbconvert_exporter": "python",
   "pygments_lexer": "ipython3",
   "version": "3.7.3"
  }
 },
 "nbformat": 4,
 "nbformat_minor": 2
}
