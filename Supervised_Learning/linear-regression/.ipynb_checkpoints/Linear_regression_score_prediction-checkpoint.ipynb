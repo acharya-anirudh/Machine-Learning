{
 "cells": [
  {
   "cell_type": "code",
   "execution_count": 48,
   "metadata": {},
   "outputs": [],
   "source": [
    "import pandas as pd\n",
    "import matplotlib.pyplot as plt\n",
    "from sklearn.linear_model import LinearRegression\n",
    "import numpy as np\n",
    "from sklearn.metrics import mean_squared_error"
   ]
  },
  {
   "cell_type": "code",
   "execution_count": 49,
   "metadata": {},
   "outputs": [],
   "source": [
    "df = pd.read_csv(\"student_scores.csv\")\n",
    "#print(df)\n",
    "#print(df.head())\n",
    "#print(df.describe())\n"
   ]
  },
  {
   "cell_type": "code",
   "execution_count": 50,
   "metadata": {},
   "outputs": [
    {
     "data": {
      "image/png": "[encoded data removed]",
      "text/plain": [
       "<Figure size 432x288 with 1 Axes>"
      ]
     },
     "metadata": {
      "needs_background": "light"
     },
     "output_type": "display_data"
    }
   ],
   "source": [
    "#plot data\n",
    "#need x and y axis\n",
    "#x = df[\"Hours\"]\n",
    "#y = df[\"Scores\"]\n",
    "\n",
    "#Better take the dataseries as an np array and reshape it to avoid error afterwords in fit funcition\n",
    "x = df[\"Hours\"].values.reshape(-1,1)\n",
    "y = df[\"Scores\"].values.reshape(-1,1)\n",
    "\n",
    "#plt.plot() gives scribble lines and not properly\n",
    "#plt.scatter(x,y) same as below\n",
    "plt.plot(x,y, 'o')\n",
    "plt.xlabel(\"Hours\")\n",
    "plt.ylabel(\"Scores\")\n",
    "plt.show()"
   ]
  },
  {
   "cell_type": "code",
   "execution_count": 55,
   "metadata": {},
   "outputs": [
    {
     "data": {
      "text/plain": [
       "LinearRegression(copy_X=True, fit_intercept=True, n_jobs=None, normalize=False)"
      ]
     },
     "execution_count": 55,
     "metadata": {},
     "output_type": "execute_result"
    }
   ],
   "source": [
    "#Build a linear regression model\n",
    "#split data into training set and testing set\n",
    "#general rule: 80% training data and 20% testing data\n",
    "\n",
    "X_train, Y_train = x[0:20], y[0:20]\n",
    "X_test, Y_test = x[19:], y[19:] #excludes 19 index\n",
    "#print(X_train, X_test)\n",
    "\n",
    "model = LinearRegression()\n",
    "model.fit(X_train, Y_train) #error: needs reshaped array\n",
    "# we are providing it a pandas data series\n",
    "# convert it to a numpy array and then reshape accordingly\n",
    "\n",
    "#so we will modify the original x and y taken from the dataframe\n",
    "# x = df[\"Hours\"].values\n",
    "# y = df[\"Scores\"].values\n"
   ]
  },
  {
   "cell_type": "code",
   "execution_count": 56,
   "metadata": {},
   "outputs": [
    {
     "data": {
      "image/png": "[encoded data removed]",
      "text/plain": [
       "<Figure size 432x288 with 1 Axes>"
      ]
     },
     "metadata": {
      "needs_background": "light"
     },
     "output_type": "display_data"
    }
   ],
   "source": [
    "#plot the regression line from train data\n",
    "regression_line = model.predict(x) # for all x's let plot\n",
    "plt.plot(x,y, 'o')\n",
    "plt.xlabel(\"Hours\")\n",
    "plt.ylabel(\"Scores\")\n",
    "plt.plot(x, regression_line)\n",
    "plt.show()"
   ]
  },
  {
   "cell_type": "code",
   "execution_count": 59,
   "metadata": {},
   "outputs": [
    {
     "data": {
      "image/png": "[encoded data removed]",
      "text/plain": [
       "<Figure size 432x288 with 1 Axes>"
      ]
     },
     "metadata": {
      "needs_background": "light"
     },
     "output_type": "display_data"
    }
   ],
   "source": [
    "plt.plot(X_train, Y_train, 'o', color = \"red\")\n",
    "plt.plot(X_test, Y_test, 'o', color = \"green\")\n",
    "plt.plot(x, regression_line, color = \"blue\")\n",
    "plt.show()"
   ]
  },
  {
   "cell_type": "code",
   "execution_count": 66,
   "metadata": {},
   "outputs": [
    {
     "name": "stdout",
     "output_type": "stream",
     "text": [
      "[[78.81063634]]\n"
     ]
    }
   ],
   "source": [
    "#the difference between our prediction and the actual value is the error\n",
    "#Example: at hours = 8, the prediction is around 79 from the reg line\n",
    "#but from the test data, we can see that it is just above 80\n",
    "\n",
    "#To find the error, lets make predictions on the test data\n",
    "\n",
    "\n",
    "print (model.predict(np.array([[8]]))) #predicts for one instance"
   ]
  },
  {
   "cell_type": "code",
   "execution_count": 72,
   "metadata": {},
   "outputs": [],
   "source": [
    "#lets predict for the entire test data\n",
    "y_pred = model.predict(X_test)\n",
    "# print(Y_test)\n",
    "# print(y_pred)"
   ]
  },
  {
   "cell_type": "code",
   "execution_count": 73,
   "metadata": {},
   "outputs": [
    {
     "name": "stdout",
     "output_type": "stream",
     "text": [
      "37.173521258747606\n"
     ]
    }
   ],
   "source": [
    "#Check the error\n",
    "#mean_squared_error(actual, prediction) #in scikit learn library\n",
    "\n",
    "print(mean_squared_error(Y_test, y_pred))"
   ]
  },
  {
   "cell_type": "code",
   "execution_count": null,
   "metadata": {},
   "outputs": [],
   "source": []
  }
 ],
 "metadata": {
  "kernelspec": {
   "display_name": "Python 3",
   "language": "python",
   "name": "python3"
  },
  "language_info": {
   "codemirror_mode": {
    "name": "ipython",
    "version": 3
   },
   "file_extension": ".py",
   "mimetype": "text/x-python",
   "name": "python",
   "nbconvert_exporter": "python",
   "pygments_lexer": "ipython3",
   "version": "3.7.3"
  }
 },
 "nbformat": 4,
 "nbformat_minor": 2
}
